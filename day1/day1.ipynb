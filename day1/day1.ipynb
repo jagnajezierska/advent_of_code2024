{
 "cells": [
  {
   "cell_type": "code",
   "id": "initial_id",
   "metadata": {
    "collapsed": true,
    "ExecuteTime": {
     "end_time": "2024-12-02T15:41:06.904921Z",
     "start_time": "2024-12-02T15:41:06.901283Z"
    }
   },
   "source": [
    "list_left = []\n",
    "list_right = []"
   ],
   "outputs": [],
   "execution_count": 1
  },
  {
   "metadata": {
    "ExecuteTime": {
     "end_time": "2024-12-02T15:44:42.326998Z",
     "start_time": "2024-12-02T15:44:42.319477Z"
    }
   },
   "cell_type": "code",
   "source": [
    "with open('input.txt', 'r') as file:\n",
    "    for line in file:\n",
    "        numbers = line.split(\"   \")\n",
    "        list_left.append(int(numbers[0]))\n",
    "        list_right.append(int(numbers[1]))"
   ],
   "id": "a0ac2f3292d832a4",
   "outputs": [],
   "execution_count": 2
  },
  {
   "metadata": {
    "ExecuteTime": {
     "end_time": "2024-12-02T15:45:23.550469Z",
     "start_time": "2024-12-02T15:45:23.544388Z"
    }
   },
   "cell_type": "code",
   "source": [
    "list_left.sort()\n",
    "list_right.sort()"
   ],
   "id": "381ab96fd5554751",
   "outputs": [],
   "execution_count": 3
  },
  {
   "metadata": {
    "ExecuteTime": {
     "end_time": "2024-12-02T15:51:36.453473Z",
     "start_time": "2024-12-02T15:51:36.447147Z"
    }
   },
   "cell_type": "code",
   "source": [
    "total_distance = 0\n",
    "for i in range(0, len(list_left)):\n",
    "    distance = abs(list_left[i] - list_right[i])\n",
    "    total_distance += distance"
   ],
   "id": "b045ba1303bb1f11",
   "outputs": [],
   "execution_count": 6
  },
  {
   "metadata": {
    "ExecuteTime": {
     "end_time": "2024-12-02T15:53:14.355443Z",
     "start_time": "2024-12-02T15:53:14.348722Z"
    }
   },
   "cell_type": "code",
   "source": "total_distance\n",
   "id": "4b1e64e2feb91a6",
   "outputs": [
    {
     "data": {
      "text/plain": [
       "3246517"
      ]
     },
     "execution_count": 8,
     "metadata": {},
     "output_type": "execute_result"
    }
   ],
   "execution_count": 8
  },
  {
   "metadata": {
    "ExecuteTime": {
     "end_time": "2024-12-02T15:56:28.797962Z",
     "start_time": "2024-12-02T15:56:28.776914Z"
    }
   },
   "cell_type": "code",
   "source": [
    "similarity_score = 0\n",
    "for number in list_left:\n",
    "    similarity_score += number * list_right.count(number)\n",
    "    \n",
    "    "
   ],
   "id": "2362689871e735ce",
   "outputs": [],
   "execution_count": 9
  },
  {
   "metadata": {
    "ExecuteTime": {
     "end_time": "2024-12-02T15:56:32.141556Z",
     "start_time": "2024-12-02T15:56:32.134665Z"
    }
   },
   "cell_type": "code",
   "source": "similarity_score",
   "id": "cbdb906da2918e64",
   "outputs": [
    {
     "data": {
      "text/plain": [
       "29379307"
      ]
     },
     "execution_count": 10,
     "metadata": {},
     "output_type": "execute_result"
    }
   ],
   "execution_count": 10
  },
  {
   "metadata": {},
   "cell_type": "code",
   "outputs": [],
   "execution_count": null,
   "source": "",
   "id": "e8b57658c79c8e68"
  }
 ],
 "metadata": {
  "kernelspec": {
   "display_name": "Python 3",
   "language": "python",
   "name": "python3"
  },
  "language_info": {
   "codemirror_mode": {
    "name": "ipython",
    "version": 2
   },
   "file_extension": ".py",
   "mimetype": "text/x-python",
   "name": "python",
   "nbconvert_exporter": "python",
   "pygments_lexer": "ipython2",
   "version": "2.7.6"
  }
 },
 "nbformat": 4,
 "nbformat_minor": 5
}
